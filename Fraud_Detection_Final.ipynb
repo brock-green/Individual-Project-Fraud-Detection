{
 "cells": [
  {
   "cell_type": "markdown",
   "metadata": {},
   "source": [
    "# Fraud Detection in Online Payments:\n",
    "<hr style=\"border:2px solid black\">\n",
    "\n",
    "## Goal: \n",
    "* Discover patterns of fraudulent activity in online payments\n",
    "* Create a classification model to identify fraudulent transactions with high level of precision and recall\n",
    "<hr style=\"border:2px solid black\">"
   ]
  },
  {
   "cell_type": "code",
   "execution_count": 1,
   "metadata": {},
   "outputs": [],
   "source": [
    "import pandas as pd\n",
    "import numpy as np\n",
    "import wrangle as wr\n",
    "import matplotlib.pyplot as plt\n",
    "import seaborn as sns\n",
    "import explore as e\n",
    "import model as m\n",
    "from sklearn.metrics import confusion_matrix, f1_score, precision_score, recall_score, roc_auc_score\n",
    "from sklearn.linear_model import LogisticRegression\n",
    "from sklearn.tree import DecisionTreeClassifier\n",
    "from scipy import stats\n",
    "from sklearn.preprocessing import MinMaxScaler\n",
    "import warnings\n",
    "from sklearn.exceptions import UndefinedMetricWarning\n",
    "\n",
    "# Filter out the UndefinedMetricWarning for precision\n",
    "warnings.filterwarnings(\"ignore\", category=UndefinedMetricWarning)\n",
    "\n",
    "pd.set_option('display.float_format', lambda x: '{:.2f}'.format(x))\n",
    "sns.set_context(\"notebook\", rc={\"axes.formatter.limits\": (-2, 3)})"
   ]
  },
  {
   "cell_type": "markdown",
   "metadata": {},
   "source": [
    "<hr style=\"border:2px solid black\">\n",
    "\n",
    "# **Wrangle**\n",
    "Plan --> **Wrangle** --> Explore --> Model --> Deliver \n",
    "\n",
    "**Wrangle Actions:**\n",
    "* Acquire Data from CSV\n",
    "* Rename Columns\n",
    "* Create new Variables\n",
    "* Scale 'step'\n",
    "* Add Baseline prediction\n",
    "* Train, Validate, Test Split"
   ]
  },
  {
   "cell_type": "code",
   "execution_count": 2,
   "metadata": {},
   "outputs": [],
   "source": [
    "# Acquire Data\n",
    "df = wr.get_fraud_data()\n",
    "\n",
    "# Prep Data\n",
    "df = wr.prep_fraud(df)\n",
    "\n",
    "# Split Function\n",
    "train, validate, test = wr.split_function(df, 'isfraud')"
   ]
  },
  {
   "cell_type": "markdown",
   "metadata": {},
   "source": [
    "<hr style=\"border:2px solid black\">\n",
    "\n",
    "# **Explore**\n",
    "Plan --> Wrangle --> **Explore** --> Model --> Deliver"
   ]
  },
  {
   "cell_type": "markdown",
   "metadata": {},
   "source": [
    "> ### <u>Q1: Is there a transaction type/types where fraud occurs significantly more often?</u>"
   ]
  },
  {
   "cell_type": "code",
   "execution_count": 3,
   "metadata": {},
   "outputs": [
    {
     "data": {
      "image/png": "[encoded data removed]",
      "text/plain": [
       "<Figure size 640x480 with 1 Axes>"
      ]
     },
     "metadata": {},
     "output_type": "display_data"
    }
   ],
   "source": [
    "e.fraud_by_type(train)"
   ]
  },
  {
   "cell_type": "markdown",
   "metadata": {},
   "source": [
    "<div style=\"background-color: #A9CCE3; box-shadow: 0 0 0 1px black; padding: 5px;\">\n",
    "\n",
    "**I will now use a Chi-Square Test to investigate whether fraud is independent of transaction type.**\n",
    "\n",
    "* I will use a confidence interval of 99.9% \n",
    "* The resulting alpha is .001<br>\n",
    "\n",
    "**H0: Fraud is independent of transaction type.**<br>\n",
    "**Ha: Fraud is dependent on transaction type.**\n",
    "</div>"
   ]
  },
  {
   "cell_type": "code",
   "execution_count": 4,
   "metadata": {},
   "outputs": [
    {
     "name": "stdout",
     "output_type": "stream",
     "text": [
      "Observed Values\n",
      "\n",
      "[[ 839712 1339774   24774 1291267  317117]\n",
      " [      0    2449       0       0    2479]]\n",
      "---\n",
      "Expected Values\n",
      "\n",
      "[[ 838628 1340490   24742 1289600  319183]\n",
      " [   1083    1732      31    1666     412]]\n",
      "---\n",
      "\n",
      "~~~~~~~~~~~~~~~~~~~~~~~~~~~~~~~~~~~~~~~\n",
      "chi^2 = 13446.8505\n",
      "p     = 0.0000\n",
      "We reject the null hypothesis\n"
     ]
    }
   ],
   "source": [
    "alpha = 0.001\n",
    "observed = pd.crosstab(train.isfraud, train.type)\n",
    "chi2, p, degf, expected = stats.chi2_contingency(observed)\n",
    "\n",
    "# print 'Observed Values' followed by a new line\n",
    "print('Observed Values\\n')\n",
    "\n",
    "# print the values from the 'observed' dataframe\n",
    "print(observed.values)\n",
    "\n",
    "# print --- and then a new line, 'Expected Values', followed by another new line\n",
    "print('---\\nExpected Values\\n')\n",
    "\n",
    "# print the expected values array\n",
    "print(expected.astype(int))\n",
    "\n",
    "# print a new line\n",
    "print('---\\n')\n",
    "print('~~~~~~~~~~~~~~~~~~~~~~~~~~~~~~~~~~~~~~~')\n",
    "# print the chi2 value, formatted to a float with 4 digits. \n",
    "print(f'chi^2 = {chi2:.4f}') \n",
    "\n",
    "# print the p-value, formatted to a float with 4 digits. \n",
    "print(f'p     = {p:.4f}')\n",
    "\n",
    "\n",
    "if p < alpha:\n",
    "    print('We reject the null hypothesis')\n",
    "else:\n",
    "    print('We fail to reject the null hypothesis')\n"
   ]
  },
  {
   "cell_type": "markdown",
   "metadata": {},
   "source": [
    "> Takeaways: Fraud occurred exclusively in the TRANSFER and CASH_OUT transaction types. "
   ]
  },
  {
   "cell_type": "markdown",
   "metadata": {},
   "source": [
    "> ### <u>Q2: Does fraud occur significantly more often when the transaction amount is equal to the original account balance (complete withdrawl)?</u>"
   ]
  },
  {
   "cell_type": "code",
   "execution_count": 5,
   "metadata": {},
   "outputs": [
    {
     "data": {
      "text/html": [
       "<div>\n",
       "<style scoped>\n",
       "    .dataframe tbody tr th:only-of-type {\n",
       "        vertical-align: middle;\n",
       "    }\n",
       "\n",
       "    .dataframe tbody tr th {\n",
       "        vertical-align: top;\n",
       "    }\n",
       "\n",
       "    .dataframe thead th {\n",
       "        text-align: right;\n",
       "    }\n",
       "</style>\n",
       "<table border=\"1\" class=\"dataframe\">\n",
       "  <thead>\n",
       "    <tr style=\"text-align: right;\">\n",
       "      <th></th>\n",
       "      <th>type</th>\n",
       "      <th>amount</th>\n",
       "      <th>oldbalanceorg</th>\n",
       "      <th>newbalanceorig</th>\n",
       "      <th>isfraud</th>\n",
       "    </tr>\n",
       "  </thead>\n",
       "  <tbody>\n",
       "    <tr>\n",
       "      <th>4012372</th>\n",
       "      <td>TRANSFER</td>\n",
       "      <td>677503.25</td>\n",
       "      <td>677503.25</td>\n",
       "      <td>0.00</td>\n",
       "      <td>1</td>\n",
       "    </tr>\n",
       "    <tr>\n",
       "      <th>5511891</th>\n",
       "      <td>TRANSFER</td>\n",
       "      <td>330218.85</td>\n",
       "      <td>330218.85</td>\n",
       "      <td>0.00</td>\n",
       "      <td>1</td>\n",
       "    </tr>\n",
       "    <tr>\n",
       "      <th>6044573</th>\n",
       "      <td>CASH_OUT</td>\n",
       "      <td>1265033.25</td>\n",
       "      <td>1265033.25</td>\n",
       "      <td>0.00</td>\n",
       "      <td>1</td>\n",
       "    </tr>\n",
       "    <tr>\n",
       "      <th>6360704</th>\n",
       "      <td>TRANSFER</td>\n",
       "      <td>455386.57</td>\n",
       "      <td>455386.57</td>\n",
       "      <td>0.00</td>\n",
       "      <td>1</td>\n",
       "    </tr>\n",
       "    <tr>\n",
       "      <th>6301479</th>\n",
       "      <td>TRANSFER</td>\n",
       "      <td>368951.94</td>\n",
       "      <td>368951.94</td>\n",
       "      <td>0.00</td>\n",
       "      <td>1</td>\n",
       "    </tr>\n",
       "    <tr>\n",
       "      <th>5561598</th>\n",
       "      <td>TRANSFER</td>\n",
       "      <td>136903.90</td>\n",
       "      <td>136903.90</td>\n",
       "      <td>0.00</td>\n",
       "      <td>1</td>\n",
       "    </tr>\n",
       "    <tr>\n",
       "      <th>4388539</th>\n",
       "      <td>TRANSFER</td>\n",
       "      <td>271150.29</td>\n",
       "      <td>271150.29</td>\n",
       "      <td>0.00</td>\n",
       "      <td>1</td>\n",
       "    </tr>\n",
       "    <tr>\n",
       "      <th>1030270</th>\n",
       "      <td>CASH_OUT</td>\n",
       "      <td>1398946.33</td>\n",
       "      <td>1398946.33</td>\n",
       "      <td>0.00</td>\n",
       "      <td>1</td>\n",
       "    </tr>\n",
       "    <tr>\n",
       "      <th>1511347</th>\n",
       "      <td>CASH_OUT</td>\n",
       "      <td>172510.95</td>\n",
       "      <td>172510.95</td>\n",
       "      <td>0.00</td>\n",
       "      <td>1</td>\n",
       "    </tr>\n",
       "    <tr>\n",
       "      <th>1059595</th>\n",
       "      <td>CASH_OUT</td>\n",
       "      <td>219489.62</td>\n",
       "      <td>219489.62</td>\n",
       "      <td>0.00</td>\n",
       "      <td>1</td>\n",
       "    </tr>\n",
       "  </tbody>\n",
       "</table>\n",
       "</div>"
      ],
      "text/plain": [
       "             type     amount  oldbalanceorg  newbalanceorig  isfraud\n",
       "4012372  TRANSFER  677503.25      677503.25            0.00        1\n",
       "5511891  TRANSFER  330218.85      330218.85            0.00        1\n",
       "6044573  CASH_OUT 1265033.25     1265033.25            0.00        1\n",
       "6360704  TRANSFER  455386.57      455386.57            0.00        1\n",
       "6301479  TRANSFER  368951.94      368951.94            0.00        1\n",
       "5561598  TRANSFER  136903.90      136903.90            0.00        1\n",
       "4388539  TRANSFER  271150.29      271150.29            0.00        1\n",
       "1030270  CASH_OUT 1398946.33     1398946.33            0.00        1\n",
       "1511347  CASH_OUT  172510.95      172510.95            0.00        1\n",
       "1059595  CASH_OUT  219489.62      219489.62            0.00        1"
      ]
     },
     "execution_count": 5,
     "metadata": {},
     "output_type": "execute_result"
    }
   ],
   "source": [
    "train[train.amount == train.oldbalanceorg][['type', 'amount', 'oldbalanceorg', 'newbalanceorig', 'isfraud']].head(10)"
   ]
  },
  {
   "cell_type": "markdown",
   "metadata": {},
   "source": [
    "<div style=\"background-color: #A9CCE3; box-shadow: 0 0 0 1px black; padding: 5px;\">\n",
    "\n",
    "**I will now use a Chi-Square Test to investigate whether fraud is independent of complete withdrawals).**\n",
    "\n",
    "* I will use a confidence interval of 99.9% \n",
    "* The resulting alpha is .001<br>\n",
    "\n",
    "**H0: Fraud is independent of complete withdrawals.**<br>\n",
    "**Ha: Fraud is dependent on complete withdrawals.**\n",
    "</div>"
   ]
  },
  {
   "cell_type": "code",
   "execution_count": 6,
   "metadata": {},
   "outputs": [
    {
     "name": "stdout",
     "output_type": "stream",
     "text": [
      "Observed Values\n",
      "\n",
      "[[3812644       0]\n",
      " [    103    4825]]\n",
      "---\n",
      "Expected Values\n",
      "\n",
      "[[3807825    4818]\n",
      " [   4921       6]]\n",
      "---\n",
      "\n",
      "~~~~~~~~~~~~~~~~~~~~~~~~~~~~~~~~~~~~~~~\n",
      "chi^2 = 3736904.4422\n",
      "p     = 0.0000\n",
      "We reject the null hypothesis\n"
     ]
    }
   ],
   "source": [
    "alpha = 0.001\n",
    "observed = pd.crosstab(train.isfraud, train.complete_withdrawal)\n",
    "\n",
    "chi2, p, degf, expected = stats.chi2_contingency(observed)\n",
    "\n",
    "# print 'Observed Values' followed by a new line\n",
    "print('Observed Values\\n')\n",
    "\n",
    "# print the values from the 'observed' dataframe\n",
    "print(observed.values)\n",
    "\n",
    "# print --- and then a new line, 'Expected Values', followed by another new line\n",
    "print('---\\nExpected Values\\n')\n",
    "\n",
    "# print the expected values array\n",
    "print(expected.astype(int))\n",
    "\n",
    "# print a new line\n",
    "print('---\\n')\n",
    "print('~~~~~~~~~~~~~~~~~~~~~~~~~~~~~~~~~~~~~~~')\n",
    "# print the chi2 value, formatted to a float with 4 digits. \n",
    "print(f'chi^2 = {chi2:.4f}') \n",
    "\n",
    "# print the p-value, formatted to a float with 4 digits. \n",
    "print(f'p     = {p:.4f}')\n",
    "\n",
    "\n",
    "if p < alpha:\n",
    "    print('We reject the null hypothesis')\n",
    "else:\n",
    "    print('We fail to reject the null hypothesis')\n"
   ]
  },
  {
   "cell_type": "markdown",
   "metadata": {},
   "source": [
    "> Takeaways: Transactions in this group were exclusively fraudulent. There were 4825 fraudulent observations in this group. This makes up 97.9% of fraudulent transactions in the training set."
   ]
  },
  {
   "cell_type": "markdown",
   "metadata": {},
   "source": [
    "> ### <u>Q3: Does fraud occur significantly more often when transaction type is transfer and amount is 10,000,000?</u>"
   ]
  },
  {
   "cell_type": "markdown",
   "metadata": {},
   "source": [
    "<div style=\"background-color: #A9CCE3; box-shadow: 0 0 0 1px black; padding: 5px;\">\n",
    "\n",
    "**I will now use a Chi-Square Test to investigate whether fraud is independent 10M transfer.**\n",
    "\n",
    "* I will use a confidence interval of 99.9% \n",
    "* The resulting alpha is .001<br>\n",
    "\n",
    "**H0: Fraud is independent of 10M transfer.**<br>\n",
    "**Ha: Fraud is dependent on 10M transfer.**\n",
    "</div>"
   ]
  },
  {
   "cell_type": "code",
   "execution_count": 7,
   "metadata": {},
   "outputs": [
    {
     "name": "stdout",
     "output_type": "stream",
     "text": [
      "Observed Values\n",
      "\n",
      "[[3810916    1728]\n",
      " [   4845      83]]\n",
      "---\n",
      "Expected Values\n",
      "\n",
      "[[3810835    1808]\n",
      " [   4925       2]]\n",
      "---\n",
      "\n",
      "~~~~~~~~~~~~~~~~~~~~~~~~~~~~~~~~~~~~~~~\n",
      "chi^2 = 2753.6245\n",
      "p     = 0.0000\n",
      "We reject the null hypothesis\n"
     ]
    }
   ],
   "source": [
    "alpha = 0.001\n",
    "observed = pd.crosstab(train.isfraud, train['10M_transfer'])\n",
    "\n",
    "chi2, p, degf, expected = stats.chi2_contingency(observed)\n",
    "\n",
    "# print 'Observed Values' followed by a new line\n",
    "print('Observed Values\\n')\n",
    "\n",
    "# print the values from the 'observed' dataframe\n",
    "print(observed.values)\n",
    "\n",
    "\n",
    "# print --- and then a new line, 'Expected Values', followed by another new line\n",
    "print('---\\nExpected Values\\n')\n",
    "\n",
    "# print the expected values array\n",
    "print(expected.astype(int))\n",
    "\n",
    "# print a new line\n",
    "print('---\\n')\n",
    "print('~~~~~~~~~~~~~~~~~~~~~~~~~~~~~~~~~~~~~~~')\n",
    "# print the chi2 value, formatted to a float with 4 digits. \n",
    "print(f'chi^2 = {chi2:.4f}') \n",
    "\n",
    "# print the p-value, formatted to a float with 4 digits. \n",
    "print(f'p     = {p:.4f}')\n",
    "\n",
    "\n",
    "if p < alpha:\n",
    "    print('We reject the null hypothesis')\n",
    "else:\n",
    "    print('We fail to reject the null hypothesis')\n"
   ]
  },
  {
   "cell_type": "markdown",
   "metadata": {},
   "source": [
    "> Takeaways: Fraud occurred 1.68% of the time in this group. While this seems low, this is much higher than the training set fraud rate of 0.13%."
   ]
  },
  {
   "cell_type": "markdown",
   "metadata": {},
   "source": [
    "> ### <u>Q4: Does fraud occur significantly more often when transaction type is 'TRANSFER' and destination balances are 0?</u>"
   ]
  },
  {
   "cell_type": "code",
   "execution_count": 8,
   "metadata": {},
   "outputs": [
    {
     "data": {
      "text/html": [
       "<div>\n",
       "<style scoped>\n",
       "    .dataframe tbody tr th:only-of-type {\n",
       "        vertical-align: middle;\n",
       "    }\n",
       "\n",
       "    .dataframe tbody tr th {\n",
       "        vertical-align: top;\n",
       "    }\n",
       "\n",
       "    .dataframe thead th {\n",
       "        text-align: right;\n",
       "    }\n",
       "</style>\n",
       "<table border=\"1\" class=\"dataframe\">\n",
       "  <thead>\n",
       "    <tr style=\"text-align: right;\">\n",
       "      <th></th>\n",
       "      <th>type</th>\n",
       "      <th>amount</th>\n",
       "      <th>oldbalancedest</th>\n",
       "      <th>newbalancedest</th>\n",
       "      <th>isfraud</th>\n",
       "    </tr>\n",
       "  </thead>\n",
       "  <tbody>\n",
       "    <tr>\n",
       "      <th>1456142</th>\n",
       "      <td>TRANSFER</td>\n",
       "      <td>2873536.01</td>\n",
       "      <td>0.00</td>\n",
       "      <td>0.00</td>\n",
       "      <td>1</td>\n",
       "    </tr>\n",
       "    <tr>\n",
       "      <th>6361197</th>\n",
       "      <td>TRANSFER</td>\n",
       "      <td>116798.38</td>\n",
       "      <td>0.00</td>\n",
       "      <td>0.00</td>\n",
       "      <td>1</td>\n",
       "    </tr>\n",
       "    <tr>\n",
       "      <th>6281470</th>\n",
       "      <td>TRANSFER</td>\n",
       "      <td>10000000.00</td>\n",
       "      <td>0.00</td>\n",
       "      <td>0.00</td>\n",
       "      <td>1</td>\n",
       "    </tr>\n",
       "    <tr>\n",
       "      <th>6269553</th>\n",
       "      <td>TRANSFER</td>\n",
       "      <td>293470.64</td>\n",
       "      <td>0.00</td>\n",
       "      <td>0.00</td>\n",
       "      <td>1</td>\n",
       "    </tr>\n",
       "    <tr>\n",
       "      <th>2783639</th>\n",
       "      <td>TRANSFER</td>\n",
       "      <td>1368391.50</td>\n",
       "      <td>0.00</td>\n",
       "      <td>0.00</td>\n",
       "      <td>1</td>\n",
       "    </tr>\n",
       "    <tr>\n",
       "      <th>1511382</th>\n",
       "      <td>TRANSFER</td>\n",
       "      <td>1633227.00</td>\n",
       "      <td>0.00</td>\n",
       "      <td>0.00</td>\n",
       "      <td>1</td>\n",
       "    </tr>\n",
       "    <tr>\n",
       "      <th>3498775</th>\n",
       "      <td>TRANSFER</td>\n",
       "      <td>1950373.54</td>\n",
       "      <td>0.00</td>\n",
       "      <td>0.00</td>\n",
       "      <td>1</td>\n",
       "    </tr>\n",
       "    <tr>\n",
       "      <th>1932179</th>\n",
       "      <td>TRANSFER</td>\n",
       "      <td>211721.90</td>\n",
       "      <td>0.00</td>\n",
       "      <td>0.00</td>\n",
       "      <td>1</td>\n",
       "    </tr>\n",
       "    <tr>\n",
       "      <th>1030291</th>\n",
       "      <td>TRANSFER</td>\n",
       "      <td>3640271.29</td>\n",
       "      <td>0.00</td>\n",
       "      <td>0.00</td>\n",
       "      <td>1</td>\n",
       "    </tr>\n",
       "    <tr>\n",
       "      <th>6019700</th>\n",
       "      <td>TRANSFER</td>\n",
       "      <td>4017972.88</td>\n",
       "      <td>0.00</td>\n",
       "      <td>0.00</td>\n",
       "      <td>1</td>\n",
       "    </tr>\n",
       "  </tbody>\n",
       "</table>\n",
       "</div>"
      ],
      "text/plain": [
       "             type      amount  oldbalancedest  newbalancedest  isfraud\n",
       "1456142  TRANSFER  2873536.01            0.00            0.00        1\n",
       "6361197  TRANSFER   116798.38            0.00            0.00        1\n",
       "6281470  TRANSFER 10000000.00            0.00            0.00        1\n",
       "6269553  TRANSFER   293470.64            0.00            0.00        1\n",
       "2783639  TRANSFER  1368391.50            0.00            0.00        1\n",
       "1511382  TRANSFER  1633227.00            0.00            0.00        1\n",
       "3498775  TRANSFER  1950373.54            0.00            0.00        1\n",
       "1932179  TRANSFER   211721.90            0.00            0.00        1\n",
       "1030291  TRANSFER  3640271.29            0.00            0.00        1\n",
       "6019700  TRANSFER  4017972.88            0.00            0.00        1"
      ]
     },
     "execution_count": 8,
     "metadata": {},
     "output_type": "execute_result"
    }
   ],
   "source": [
    "train_fraud_only = train[train.isfraud == 1]\n",
    "train_fraud_only[(train_fraud_only['type'] == 'TRANSFER') & (train_fraud_only['oldbalancedest'] == 0) & (train_fraud_only['newbalancedest'] == 0)][['type', 'amount','oldbalancedest', 'newbalancedest', 'isfraud']].sample(10)"
   ]
  },
  {
   "cell_type": "markdown",
   "metadata": {},
   "source": [
    "<div style=\"background-color: #A9CCE3; box-shadow: 0 0 0 1px black; padding: 5px;\">\n",
    "\n",
    "**I will now use a Chi-Square Test to investigate whether fraud is independent of transfer_missing_dest_balance.**\n",
    "\n",
    "* I will use a confidence interval of 99.9% \n",
    "* The resulting alpha is .001<br>\n",
    "\n",
    "**H0: Fraud is independent of transfer_missing_dest_balance.**<br>\n",
    "**Ha: Fraud is dependent on transfer_missing_dest_balance.**\n",
    "</div>"
   ]
  },
  {
   "cell_type": "code",
   "execution_count": 9,
   "metadata": {},
   "outputs": [
    {
     "name": "stdout",
     "output_type": "stream",
     "text": [
      "Observed Values\n",
      "\n",
      "[[3812581      63]\n",
      " [   2466    2462]]\n",
      "---\n",
      "Expected Values\n",
      "\n",
      "[[3810122    2521]\n",
      " [   4924       3]]\n",
      "---\n",
      "\n",
      "~~~~~~~~~~~~~~~~~~~~~~~~~~~~~~~~~~~~~~~\n",
      "chi^2 = 1857600.1412\n",
      "p     = 0.0000\n",
      "We reject the null hypothesis\n"
     ]
    }
   ],
   "source": [
    "alpha = 0.001\n",
    "observed = pd.crosstab(train.isfraud, train['transfer_missing_dest_balance'])\n",
    "\n",
    "chi2, p, degf, expected = stats.chi2_contingency(observed)\n",
    "\n",
    "# print 'Observed Values' followed by a new line\n",
    "print('Observed Values\\n')\n",
    "\n",
    "# print the values from the 'observed' dataframe\n",
    "print(observed.values)\n",
    "\n",
    "# print --- and then a new line, 'Expected Values', followed by another new line\n",
    "print('---\\nExpected Values\\n')\n",
    "\n",
    "# print the expected values array\n",
    "print(expected.astype(int))\n",
    "\n",
    "# print a new line\n",
    "print('---\\n')\n",
    "print('~~~~~~~~~~~~~~~~~~~~~~~~~~~~~~~~~~~~~~~')\n",
    "# print the chi2 value, formatted to a float with 4 digits. \n",
    "print(f'chi^2 = {chi2:.4f}') \n",
    "\n",
    "# print the p-value, formatted to a float with 4 digits. \n",
    "print(f'p     = {p:.4f}')\n",
    "\n",
    "\n",
    "if p < alpha:\n",
    "    print('We reject the null hypothesis')\n",
    "else:\n",
    "    print('We fail to reject the null hypothesis')\n"
   ]
  },
  {
   "cell_type": "markdown",
   "metadata": {},
   "source": [
    "> Takeaways: 2462 of 2525 transactions in this group were fraudulent. A rate of 97.5%. This makes up 50% of fraudlent transactions in the training set. (There is some overlap between this group and the group where transaction amount is equal to original account balance.)"
   ]
  },
  {
   "cell_type": "markdown",
   "metadata": {},
   "source": [
    "## Exploration Summary"
   ]
  },
  {
   "cell_type": "markdown",
   "metadata": {},
   "source": [
    "> **Features Not Moving Forward:**\n",
    "> 1. step\n",
    "> 2. type \n",
    "> 3. amount\n",
    "> 4. oldbalanceorg \n",
    "> 5. newbalanceorig\n",
    "> 6. oldbalancedest\n",
    "> 7. newbalancedest\n",
    "> 8. 10M_transfer (less predictive than other features, and positive classes are contained within complete_withdrawal)\n",
    "\n",
    "> **Features Moving Forward:** (Derived from type, amount, oldbalanceorg, newbalanceorig, oldbalancedest, newbalancedest)\n",
    "> 1. transfer_cashout \n",
    "> 2. complete_withdrawal \n",
    "> 3. transfer_missing_dest_balance \n",
    "> 4. cashout_missing_orig_balance\n",
    "> 5. step_scaled"
   ]
  },
  {
   "cell_type": "markdown",
   "metadata": {},
   "source": [
    "<hr style=\"border:2px solid black\">\n",
    "\n",
    "# **Modeling**\n",
    "Plan --> Acquire --> Prepare --> Explore --> **Model** --> Deliver\n"
   ]
  },
  {
   "cell_type": "code",
   "execution_count": 10,
   "metadata": {},
   "outputs": [],
   "source": [
    "# Feature Space\n",
    "features_1 = ['complete_withdrawal',\n",
    " 'transfer_missing_dest_balance',\n",
    " 'cashout_missing_orig_balance',\n",
    " 'transfer_cashout']\n",
    "\n",
    "features_2 = ['complete_withdrawal',\n",
    " 'transfer_missing_dest_balance',\n",
    " 'cashout_missing_orig_balance',\n",
    " 'transfer_cashout',\n",
    " 'step_scaled']\n",
    "\n",
    "# x/y split\n",
    "X_train = train[features_1]\n",
    "X_train_2 = train[features_2]\n",
    "\n",
    "X_validate = validate[features_1]\n",
    "X_validate_2 = validate[features_2]\n",
    "\n",
    "X_test = test[features_1]\n",
    "X_test_2 = test[features_2]\n",
    "\n",
    "y_train = train.isfraud\n",
    "y_validate = validate.isfraud\n",
    "y_test = test.isfraud"
   ]
  },
  {
   "cell_type": "markdown",
   "metadata": {},
   "source": [
    "## Baseline"
   ]
  },
  {
   "cell_type": "code",
   "execution_count": 11,
   "metadata": {},
   "outputs": [
    {
     "name": "stdout",
     "output_type": "stream",
     "text": [
      "Baseline Accuracy: 0.9987\n",
      "Baseline Precision Score: 0.0000\n",
      "Baseline ROC AUC Score: 0.5\n"
     ]
    }
   ],
   "source": [
    "m.get_baseline(train)"
   ]
  },
  {
   "cell_type": "markdown",
   "metadata": {},
   "source": [
    "## Decision Tree"
   ]
  },
  {
   "cell_type": "code",
   "execution_count": 12,
   "metadata": {},
   "outputs": [],
   "source": [
    "# Create Decision Tree Object\n",
    "clf = DecisionTreeClassifier(max_depth=3, random_state=123)\n",
    "\n",
    "# Fit to train\n",
    "clf = clf.fit(X_train, y_train)\n",
    "\n",
    "# Predict Train and Validate\n",
    "y_pred = clf.predict(X_train)\n",
    "y_pred_val = clf.predict(X_validate)\n",
    "\n",
    "# Add predictions to dataframe\n",
    "train['DT_prediction'] = y_pred\n",
    "validate['DT_prediction'] = y_pred_val"
   ]
  },
  {
   "cell_type": "code",
   "execution_count": 13,
   "metadata": {},
   "outputs": [
    {
     "name": "stdout",
     "output_type": "stream",
     "text": [
      "TRAIN\n",
      "Accuracy of Decision Tree classifier on training set: 0.999979\n",
      "Precision_Score of Decision Tree classifier on training set: 0.987329\n",
      "ROC AUC Score Training set: 0.9980639782767176\n",
      "~~~~~~~~~~~~~~~~~~~~~~~~~~~~~~~`\n",
      "VALIDATE\n",
      "Accuracy of Decision Tree classifier on validate set: 0.999977\n",
      "Precision_Score of Decision Tree classifier on validate set: 0.987311\n",
      "ROC AUC Score Validate set: 0.9975556844281321\n"
     ]
    }
   ],
   "source": [
    "print('TRAIN')\n",
    "print('Accuracy of Decision Tree classifier on training set: {:f}'\n",
    "      .format(clf.score(X_train, y_train)))\n",
    "\n",
    "print('Precision_Score of Decision Tree classifier on training set: {:f}'\n",
    "      .format(precision_score(train.isfraud, y_pred)))\n",
    "\n",
    "# roc_auc_score\n",
    "y_true = train['isfraud']\n",
    "y_true_val = validate['isfraud']\n",
    "\n",
    "y_pred_class = train['DT_prediction']\n",
    "y_pred_class_val = validate['DT_prediction']\n",
    "\n",
    "# Convert predicted class labels to \"soft\" labels (probabilities)\n",
    "y_pred_probabilities = np.where(y_pred_class == 1, 1, 0)\n",
    "y_pred_probabilities_val = np.where(y_pred_class_val == 1, 1, 0)\n",
    "roc_auc = roc_auc_score(y_true, y_pred_probabilities)\n",
    "print(\"ROC AUC Score Training set:\", roc_auc)\n",
    "\n",
    "\n",
    "\n",
    "print('~~~~~~~~~~~~~~~~~~~~~~~~~~~~~~~`')\n",
    "\n",
    "print('VALIDATE')\n",
    "print('Accuracy of Decision Tree classifier on validate set: {:f}'\n",
    "      .format(clf.score(X_validate, y_validate)))\n",
    "\n",
    "\n",
    "print('Precision_Score of Decision Tree classifier on validate set: {:f}'\n",
    "      .format(precision_score(validate.isfraud, y_pred_val)))\n",
    "\n",
    "\n",
    "roc_auc = roc_auc_score(y_true_val, y_pred_probabilities_val)\n",
    "print(\"ROC AUC Score Validate set:\", roc_auc)"
   ]
  },
  {
   "cell_type": "markdown",
   "metadata": {},
   "source": [
    "> Takeaways: DT model had perfect precision. There were no false positives. "
   ]
  },
  {
   "cell_type": "markdown",
   "metadata": {},
   "source": [
    "## Logistic Regression"
   ]
  },
  {
   "cell_type": "markdown",
   "metadata": {},
   "source": [
    "### LR Model 1"
   ]
  },
  {
   "cell_type": "code",
   "execution_count": 14,
   "metadata": {},
   "outputs": [],
   "source": [
    "# Create Regression object\n",
    "logit = LogisticRegression(C=1, class_weight='balanced', random_state=666, intercept_scaling=1, solver='saga')\n",
    "\n",
    "# Fit to train\n",
    "logit.fit(X_train, y_train)\n",
    "\n",
    "# predict train and validate\n",
    "y_pred = logit.predict(X_train)\n",
    "y_pred_val = logit.predict(X_validate)\n",
    "y_pred_test = logit.predict(X_test)\n",
    "\n",
    "# predict probability on train and validate\n",
    "y_pred_proba = logit.predict_proba(X_train)\n",
    "y_pred_proba_val = logit.predict_proba(X_validate)\n",
    "y_pred_proba_test = logit.predict_proba(X_test)\n",
    "\n",
    "# add probability predictions to dataframes\n",
    "train['LR_prediction'] = y_pred\n",
    "validate['LR_prediction'] = y_pred_val\n",
    "test['LR_prediction'] = y_pred_test"
   ]
  },
  {
   "cell_type": "code",
   "execution_count": 15,
   "metadata": {},
   "outputs": [
    {
     "name": "stdout",
     "output_type": "stream",
     "text": [
      "TRAIN\n",
      "Accuracy of Logistic Regression on training set: 0.999979\n",
      "Precision_Score of Logistic Regression on training set: 0.987329\n",
      "ROC AUC Class Predictions Score on Training set: 0.9980639782767176\n",
      "ROC AUC Probability Predictions Score Training set: 0.9994680600905675\n",
      "~~~~~~~~~~~~~~~~~~~~~~~~~~~~~~~~~~~~\n",
      "VALIDATE\n",
      "Accuracy of Logistic Regression on validate set: 0.999977\n",
      "Precision_Score of Logistic Regression on validate set: 0.987311\n",
      "ROC AUC Class Predictions Score on Validate: 0.9975556844281321\n",
      "ROC AUC Probability Predictions Score Validate set: 0.9992103719652736\n"
     ]
    }
   ],
   "source": [
    "print('TRAIN')\n",
    "print('Accuracy of Logistic Regression on training set: {:f}'\n",
    "      .format(logit.score(X_train, y_train)))\n",
    "\n",
    "\n",
    "print('Precision_Score of Logistic Regression on training set: {:f}'\n",
    "      .format(precision_score(train.isfraud, y_pred)))\n",
    "\n",
    "# roc_auc_score\n",
    "y_true = train['isfraud']\n",
    "y_true_val = validate['isfraud']\n",
    "y_true_test = test['isfraud']\n",
    "\n",
    "y_pred_class = train['LR_prediction']\n",
    "y_pred_class_val = validate['LR_prediction']\n",
    "y_pred_class_test = test['LR_prediction']\n",
    "\n",
    "\n",
    "# Convert predicted class labels to \"soft\" labels (probabilities)\n",
    "y_pred_probabilities = np.where(y_pred_class == 1, 1, 0)\n",
    "y_pred_probabilities_val = np.where(y_pred_class_val == 1, 1, 0)\n",
    "y_pred_probabilities_test = np.where(y_pred_class_test == 1, 1, 0)\n",
    "\n",
    "roc_auc_class = roc_auc_score(y_true, y_pred_probabilities)\n",
    "roc_auc = roc_auc_score(y_true, y_pred_proba[:, 1])\n",
    "\n",
    "print('ROC AUC Class Predictions Score on Training set:', roc_auc_class)\n",
    "print(\"ROC AUC Probability Predictions Score Training set:\", roc_auc)\n",
    "\n",
    "print('~~~~~~~~~~~~~~~~~~~~~~~~~~~~~~~~~~~~')\n",
    "print('VALIDATE')\n",
    "\n",
    "print('Accuracy of Logistic Regression on validate set: {:f}'\n",
    "      .format(logit.score(X_validate, y_validate)))\n",
    "\n",
    "\n",
    "print('Precision_Score of Logistic Regression on validate set: {:f}'\n",
    "      .format(precision_score(validate.isfraud, y_pred_val)))\n",
    "\n",
    "roc_auc_class = roc_auc_score(y_true_val, y_pred_probabilities_val)\n",
    "roc_auc = roc_auc_score(y_true_val, y_pred_proba_val[:, 1])\n",
    "\n",
    "print('ROC AUC Class Predictions Score on Validate:', roc_auc_class)\n",
    "print(\"ROC AUC Probability Predictions Score Validate set:\", roc_auc)"
   ]
  },
  {
   "cell_type": "markdown",
   "metadata": {},
   "source": [
    "### LR Model 2"
   ]
  },
  {
   "cell_type": "code",
   "execution_count": 16,
   "metadata": {},
   "outputs": [
    {
     "name": "stderr",
     "output_type": "stream",
     "text": [
      "/opt/homebrew/anaconda3/lib/python3.11/site-packages/sklearn/linear_model/_sag.py:350: ConvergenceWarning: The max_iter was reached which means the coef_ did not converge\n",
      "  warnings.warn(\n"
     ]
    }
   ],
   "source": [
    "# Create Regression object\n",
    "logit = LogisticRegression(C=1, class_weight='balanced', random_state=666, intercept_scaling=1, solver='saga')\n",
    "\n",
    "# Fit to train\n",
    "logit.fit(X_train_2, y_train)\n",
    "\n",
    "# predict train and validate\n",
    "y_pred = logit.predict(X_train_2)\n",
    "y_pred_val = logit.predict(X_validate_2)\n",
    "y_pred_test = logit.predict(X_test_2)\n",
    "\n",
    "# predict probability on train and validate\n",
    "y_pred_proba = logit.predict_proba(X_train_2)\n",
    "y_pred_proba_val = logit.predict_proba(X_validate_2)\n",
    "y_pred_proba_test = logit.predict_proba(X_test_2)\n",
    "\n",
    "# add probability predictions to dataframes\n",
    "train['LR_prediction_2'] = y_pred\n",
    "validate['LR_prediction_2'] = y_pred_val\n",
    "test['LR_prediction_2'] = y_pred_test"
   ]
  },
  {
   "cell_type": "code",
   "execution_count": 17,
   "metadata": {},
   "outputs": [
    {
     "name": "stdout",
     "output_type": "stream",
     "text": [
      "TRAIN\n",
      "Accuracy of Logistic Regression on training set: 0.999979\n",
      "Precision_Score of Logistic Regression on training set: 0.987329\n",
      "ROC AUC Class Predictions Score on Training set: 0.9980639782767176\n",
      "ROC AUC Probability Predictions Score Training set: 0.9998751011088062\n",
      "~~~~~~~~~~~~~~~~~~~~~~~~~~~~~~~~~~~~\n",
      "VALIDATE\n",
      "Accuracy of Logistic Regression on validate set: 0.999977\n",
      "Precision_Score of Logistic Regression on validate set: 0.987311\n",
      "ROC AUC Class Predictions Score on Validate: 0.9975556844281321\n",
      "ROC AUC Probability Predictions Score Validate set: 0.9996657964688055\n",
      "~~~~~~~~~~~~~~~~~~~~~~~~~~~~~~~~~~~~\n",
      "TEST\n",
      "Accuracy of Logistic Regression on test set: 0.999980\n",
      "Precision_Score of Logistic Regression on test set: 0.986755\n",
      "ROC AUC Class Predictions Score on Test: 0.9987740591335051\n",
      "ROC AUC Probability Predictions Score Test set: 0.999942053558877\n"
     ]
    }
   ],
   "source": [
    "print('TRAIN')\n",
    "print('Accuracy of Logistic Regression on training set: {:f}'\n",
    "      .format(logit.score(X_train_2, y_train)))\n",
    "\n",
    "\n",
    "print('Precision_Score of Logistic Regression on training set: {:f}'\n",
    "      .format(precision_score(train.isfraud, y_pred)))\n",
    "\n",
    "# roc_auc_score\n",
    "y_true = train['isfraud']\n",
    "y_true_val = validate['isfraud']\n",
    "y_true_test = test['isfraud']\n",
    "\n",
    "y_pred_class = train['LR_prediction_2']\n",
    "y_pred_class_val = validate['LR_prediction_2']\n",
    "y_pred_class_test = test['LR_prediction_2']\n",
    "\n",
    "\n",
    "# Convert predicted class labels to \"soft\" labels (probabilities)\n",
    "y_pred_probabilities = np.where(y_pred_class == 1, 1, 0)\n",
    "y_pred_probabilities_val = np.where(y_pred_class_val == 1, 1, 0)\n",
    "y_pred_probabilities_test = np.where(y_pred_class_test == 1, 1, 0)\n",
    "\n",
    "roc_auc_class = roc_auc_score(y_true, y_pred_probabilities)\n",
    "roc_auc = roc_auc_score(y_true, y_pred_proba[:, 1])\n",
    "\n",
    "print('ROC AUC Class Predictions Score on Training set:', roc_auc_class)\n",
    "print(\"ROC AUC Probability Predictions Score Training set:\", roc_auc)\n",
    "\n",
    "print('~~~~~~~~~~~~~~~~~~~~~~~~~~~~~~~~~~~~')\n",
    "print('VALIDATE')\n",
    "\n",
    "print('Accuracy of Logistic Regression on validate set: {:f}'\n",
    "      .format(logit.score(X_validate_2, y_validate)))\n",
    "\n",
    "\n",
    "print('Precision_Score of Logistic Regression on validate set: {:f}'\n",
    "      .format(precision_score(validate.isfraud, y_pred_val)))\n",
    "\n",
    "roc_auc_class = roc_auc_score(y_true_val, y_pred_probabilities_val)\n",
    "roc_auc = roc_auc_score(y_true_val, y_pred_proba_val[:, 1])\n",
    "\n",
    "print('ROC AUC Class Predictions Score on Validate:', roc_auc_class)\n",
    "print(\"ROC AUC Probability Predictions Score Validate set:\", roc_auc)\n",
    "\n",
    "print('~~~~~~~~~~~~~~~~~~~~~~~~~~~~~~~~~~~~')\n",
    "print('TEST')\n",
    "\n",
    "print('Accuracy of Logistic Regression on test set: {:f}'\n",
    "      .format(logit.score(X_test_2, y_test)))\n",
    "\n",
    "\n",
    "print('Precision_Score of Logistic Regression on test set: {:f}'\n",
    "      .format(precision_score(test.isfraud, y_pred_test)))\n",
    "\n",
    "roc_auc_class = roc_auc_score(y_true_test, y_pred_probabilities_test)\n",
    "roc_auc = roc_auc_score(y_true_test, y_pred_proba_test[:, 1])\n",
    "\n",
    "print('ROC AUC Class Predictions Score on Test:', roc_auc_class)\n",
    "print(\"ROC AUC Probability Predictions Score Test set:\", roc_auc)"
   ]
  },
  {
   "cell_type": "markdown",
   "metadata": {},
   "source": [
    "<hr style=\"border:2px solid black\">\n",
    "\n",
    "# **Conclusions**\n"
   ]
  },
  {
   "cell_type": "markdown",
   "metadata": {},
   "source": [
    "## Summary\n",
    "\n",
    "Fraudulent activity is not random. Fraudsters consistently use the same few tactics to avoid detection and maximize gains. \n",
    "\n",
    "* The most common fraud tactic was to completely wipe the original account balance.\n",
    "* Next most common case of fraud was found in transfers with missing destination account balance. Possibly the transaction was manipulated to send to a fraudulent account instead of its intended destination.\n"
   ]
  },
  {
   "cell_type": "markdown",
   "metadata": {},
   "source": [
    "## Recommendations"
   ]
  },
  {
   "cell_type": "markdown",
   "metadata": {},
   "source": [
    "* Implement security protocols to prevent complete withdrawals of an account without identification.\n",
    "* Investigate IT vulnerabilities that could allow hackers to change transfer destination"
   ]
  },
  {
   "cell_type": "markdown",
   "metadata": {},
   "source": [
    "## Next Steps"
   ]
  },
  {
   "cell_type": "markdown",
   "metadata": {},
   "source": [
    "* For high value transactions where the predicted probability of fraud was high, but not high enough to classify as fraudulent, pass to a human for further investigation."
   ]
  }
 ],
 "metadata": {
  "kernelspec": {
   "display_name": "base",
   "language": "python",
   "name": "python3"
  },
  "language_info": {
   "codemirror_mode": {
    "name": "ipython",
    "version": 3
   },
   "file_extension": ".py",
   "mimetype": "text/x-python",
   "name": "python",
   "nbconvert_exporter": "python",
   "pygments_lexer": "ipython3",
   "version": "3.11.3"
  },
  "orig_nbformat": 4
 },
 "nbformat": 4,
 "nbformat_minor": 2
}
